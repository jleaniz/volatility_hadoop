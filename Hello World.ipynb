{
 "cells": [
  {
   "cell_type": "markdown",
   "metadata": {},
   "source": [
    "Testing Google Datalab + BigQuery"
   ]
  },
  {
   "cell_type": "code",
   "execution_count": 22,
   "metadata": {
    "collapsed": false
   },
   "outputs": [],
   "source": [
    "%%sql --module testdata\n",
    "SELECT user, remoteip, count(*) as cnt FROM test.test GROUP BY user, remoteip ORDER BY cnt DESC LIMIT 10"
   ]
  },
  {
   "cell_type": "code",
   "execution_count": 32,
   "metadata": {
    "collapsed": false
   },
   "outputs": [
    {
     "data": {
      "text/html": [
       "\n",
       "    <div class=\"bqgc\" id=\"20_144951308114\">\n",
       "    </div>\n",
       "    <script>\n",
       "      require(['extensions/charting', 'element!20_144951308114', 'style!/static/extensions/charting.css'],\n",
       "        function(charts, dom) {\n",
       "          charts.render(dom, {chartStyle:'columns', dataName:'3', fields:'cnt,user'}, {}, {\"rows\": [{\"c\": [{\"v\": 6676}, {\"v\": \"trevor.hammond@ubisoft.com\"}]}, {\"c\": [{\"v\": 4140}, {\"v\": \"lenin.gali@ubisoft.com\"}]}, {\"c\": [{\"v\": 3243}, {\"v\": \"laurent.detoc@ubisoft.com\"}]}, {\"c\": [{\"v\": 2634}, {\"v\": \"francois.de-billy@ubisoft.com\"}]}, {\"c\": [{\"v\": 2008}, {\"v\": \"jean.de-rivieres@ubisoft.com\"}]}, {\"c\": [{\"v\": 1877}, {\"v\": \"francois.de-billy@ubisoft.com\"}]}, {\"c\": [{\"v\": 1849}, {\"v\": \"michelle.wu@ubisoft.com\"}]}, {\"c\": [{\"v\": 1495}, {\"v\": \"ambre.lizurey@ubisoft.com\"}]}, {\"c\": [{\"v\": 1475}, {\"v\": \"corey.facteau@ubisoft.com\"}]}, {\"c\": [{\"v\": 1437}, {\"v\": \"francois.de-billy@ubisoft.com\"}]}], \"cols\": [{\"type\": \"number\", \"id\": \"cnt\", \"label\": \"cnt\"}, {\"type\": \"string\", \"id\": \"user\", \"label\": \"user\"}]});\n",
       "        }\n",
       "      );\n",
       "    </script>\n",
       "  "
      ],
      "text/plain": [
       "<IPython.core.display.HTML object>"
      ]
     },
     "execution_count": 32,
     "metadata": {},
     "output_type": "execute_result"
    }
   ],
   "source": [
    "%%chart columns --fields cnt,cnt --data testdata"
   ]
  },
  {
   "cell_type": "code",
   "execution_count": null,
   "metadata": {
    "collapsed": true
   },
   "outputs": [],
   "source": []
  }
 ],
 "metadata": {
  "kernelspec": {
   "display_name": "Python 2",
   "language": "python",
   "name": "python2"
  },
  "language_info": {
   "codemirror_mode": {
    "name": "ipython",
    "version": 2
   },
   "file_extension": ".py",
   "mimetype": "text/x-python",
   "name": "python",
   "nbconvert_exporter": "python",
   "pygments_lexer": "ipython2",
   "version": "2.7.9"
  }
 },
 "nbformat": 4,
 "nbformat_minor": 0
}
