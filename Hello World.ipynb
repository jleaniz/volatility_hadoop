{
 "cells": [
  {
   "cell_type": "markdown",
   "metadata": {},
   "source": [
    "Testing Google Datalab + BigQuery"
   ]
  },
  {
   "cell_type": "code",
   "execution_count": 8,
   "metadata": {
    "collapsed": false
   },
   "outputs": [
    {
     "data": {
      "text/html": [
       "\n",
       "    <div class=\"bqtv\" id=\"2_144951238857\"><table><tr><th>user</th><th>remoteip</th><th>cnt</th></tr><tr><td>trevor.hammond@ubisoft.com</td><td>74.57.89.82</td><td>6676</td></tr><tr><td>lenin.gali@ubisoft.com</td><td>23.120.23.86</td><td>4140</td></tr><tr><td>laurent.detoc@ubisoft.com</td><td>186.188.136.121</td><td>3243</td></tr><tr><td>francois.de-billy@ubisoft.com</td><td>70.83.41.63</td><td>2634</td></tr><tr><td>jean.de-rivieres@ubisoft.com</td><td>104.33.199.88</td><td>2008</td></tr><tr><td>francois.de-billy@ubisoft.com</td><td>192.222.189.198</td><td>1877</td></tr><tr><td>michelle.wu@ubisoft.com</td><td>96.127.218.3</td><td>1849</td></tr><tr><td>ambre.lizurey@ubisoft.com</td><td>192.222.189.198</td><td>1495</td></tr><tr><td>corey.facteau@ubisoft.com</td><td>73.235.88.222</td><td>1475</td></tr><tr><td>francois.de-billy@ubisoft.com</td><td>135.19.114.34</td><td>1437</td></tr><tr><td>stephane.caissie@ubisoft.com</td><td>173.176.104.48</td><td>1432</td></tr><tr><td>christine.dufour2@ubisoft.com</td><td>96.23.45.41</td><td>1396</td></tr><tr><td>chris.early@ubisoft.com</td><td>98.158.122.51</td><td>1287</td></tr><tr><td>mathieu.belanger@ubisoft.com</td><td>23.233.197.98</td><td>1209</td></tr><tr><td>brendan.west@ubisoft.com</td><td>50.1.57.98</td><td>1156</td></tr><tr><td>stephane.caissie@ubisoft.com</td><td>70.83.36.157</td><td>1146</td></tr><tr><td>christophe.derennes@ubisoft.com</td><td>70.81.85.67</td><td>1069</td></tr><tr><td>natalie.ochoa@ubisoft.com</td><td>71.202.152.8</td><td>1048</td></tr><tr><td>mike.eisenberg@ubisoft.com</td><td>76.103.35.233</td><td>1044</td></tr><tr><td>joshua.meyer@ubisoft.com</td><td>67.188.194.48</td><td>960</td></tr><tr><td>louis-simon.lajeunesse@ubisoft.com</td><td>69.159.236.44</td><td>944</td></tr><tr><td>xavier.szwengler@ubisoft.com</td><td>38.121.252.228</td><td>923</td></tr><tr><td>pierre.laliberte@ubisoft.com</td><td>74.56.14.71</td><td>831</td></tr><tr><td>you-gong.huang@ubisoft.com</td><td>162.222.82.130</td><td>826</td></tr><tr><td>maelenn.lumineau@ubisoft.com</td><td>216.113.28.127</td><td>810</td></tr></table></div>\n",
       "    <br />(rows: 11839, time: 1.3s,    10MB processed, job: job_S92Jr4wp5GNyKsRKR9Dz8H6yVLo)<br />\n",
       "    <script>\n",
       "      require(['extensions/charting', 'element!2_144951238857', 'style!/static/extensions/charting.css'],\n",
       "        function(charts, dom) {\n",
       "          charts.render(dom,\n",
       "            {\n",
       "              chartStyle:\"paged_table\",\n",
       "              dataName:\"1\",\n",
       "              fields:\"user,remoteip,cnt\",\n",
       "              totalRows:11839,\n",
       "              rowsPerPage:25,\n",
       "            }, {}, {\"rows\": [{\"c\": [{\"v\": \"trevor.hammond@ubisoft.com\"}, {\"v\": \"74.57.89.82\"}, {\"v\": 6676}]}, {\"c\": [{\"v\": \"lenin.gali@ubisoft.com\"}, {\"v\": \"23.120.23.86\"}, {\"v\": 4140}]}, {\"c\": [{\"v\": \"laurent.detoc@ubisoft.com\"}, {\"v\": \"186.188.136.121\"}, {\"v\": 3243}]}, {\"c\": [{\"v\": \"francois.de-billy@ubisoft.com\"}, {\"v\": \"70.83.41.63\"}, {\"v\": 2634}]}, {\"c\": [{\"v\": \"jean.de-rivieres@ubisoft.com\"}, {\"v\": \"104.33.199.88\"}, {\"v\": 2008}]}, {\"c\": [{\"v\": \"francois.de-billy@ubisoft.com\"}, {\"v\": \"192.222.189.198\"}, {\"v\": 1877}]}, {\"c\": [{\"v\": \"michelle.wu@ubisoft.com\"}, {\"v\": \"96.127.218.3\"}, {\"v\": 1849}]}, {\"c\": [{\"v\": \"ambre.lizurey@ubisoft.com\"}, {\"v\": \"192.222.189.198\"}, {\"v\": 1495}]}, {\"c\": [{\"v\": \"corey.facteau@ubisoft.com\"}, {\"v\": \"73.235.88.222\"}, {\"v\": 1475}]}, {\"c\": [{\"v\": \"francois.de-billy@ubisoft.com\"}, {\"v\": \"135.19.114.34\"}, {\"v\": 1437}]}, {\"c\": [{\"v\": \"stephane.caissie@ubisoft.com\"}, {\"v\": \"173.176.104.48\"}, {\"v\": 1432}]}, {\"c\": [{\"v\": \"christine.dufour2@ubisoft.com\"}, {\"v\": \"96.23.45.41\"}, {\"v\": 1396}]}, {\"c\": [{\"v\": \"chris.early@ubisoft.com\"}, {\"v\": \"98.158.122.51\"}, {\"v\": 1287}]}, {\"c\": [{\"v\": \"mathieu.belanger@ubisoft.com\"}, {\"v\": \"23.233.197.98\"}, {\"v\": 1209}]}, {\"c\": [{\"v\": \"brendan.west@ubisoft.com\"}, {\"v\": \"50.1.57.98\"}, {\"v\": 1156}]}, {\"c\": [{\"v\": \"stephane.caissie@ubisoft.com\"}, {\"v\": \"70.83.36.157\"}, {\"v\": 1146}]}, {\"c\": [{\"v\": \"christophe.derennes@ubisoft.com\"}, {\"v\": \"70.81.85.67\"}, {\"v\": 1069}]}, {\"c\": [{\"v\": \"natalie.ochoa@ubisoft.com\"}, {\"v\": \"71.202.152.8\"}, {\"v\": 1048}]}, {\"c\": [{\"v\": \"mike.eisenberg@ubisoft.com\"}, {\"v\": \"76.103.35.233\"}, {\"v\": 1044}]}, {\"c\": [{\"v\": \"joshua.meyer@ubisoft.com\"}, {\"v\": \"67.188.194.48\"}, {\"v\": 960}]}, {\"c\": [{\"v\": \"louis-simon.lajeunesse@ubisoft.com\"}, {\"v\": \"69.159.236.44\"}, {\"v\": 944}]}, {\"c\": [{\"v\": \"xavier.szwengler@ubisoft.com\"}, {\"v\": \"38.121.252.228\"}, {\"v\": 923}]}, {\"c\": [{\"v\": \"pierre.laliberte@ubisoft.com\"}, {\"v\": \"74.56.14.71\"}, {\"v\": 831}]}, {\"c\": [{\"v\": \"you-gong.huang@ubisoft.com\"}, {\"v\": \"162.222.82.130\"}, {\"v\": 826}]}, {\"c\": [{\"v\": \"maelenn.lumineau@ubisoft.com\"}, {\"v\": \"216.113.28.127\"}, {\"v\": 810}]}], \"cols\": [{\"type\": \"string\", \"id\": \"user\", \"label\": \"user\"}, {\"type\": \"string\", \"id\": \"remoteip\", \"label\": \"remoteip\"}, {\"type\": \"number\", \"id\": \"cnt\", \"label\": \"cnt\"}]});\n",
       "        }\n",
       "      );\n",
       "    </script>\n",
       "  "
      ],
      "text/plain": [
       "QueryResultsTable job_S92Jr4wp5GNyKsRKR9Dz8H6yVLo"
      ]
     },
     "execution_count": 8,
     "metadata": {},
     "output_type": "execute_result"
    }
   ],
   "source": [
    "%%sql\n",
    "SELECT user, remoteip, count(*) as cnt FROM test.test GROUP BY user, remoteip ORDER BY cnt DESC"
   ]
  },
  {
   "cell_type": "code",
   "execution_count": 9,
   "metadata": {
    "collapsed": false
   },
   "outputs": [
    {
     "name": "stdout",
     "output_type": "stream",
     "text": [
      "%%chart: error: unrecognized arguments: test.remoteip\n",
      "\n"
     ]
    },
    {
     "name": "stderr",
     "output_type": "stream",
     "text": [
      "usage: %%chart [-h]\n",
      "               {annotation,area,bars,bubbles,calendar,candlestick,columns,combo,gauge,geo,histogram,line,map,org,paged_table,pie,sankey,scatter,stepped_area,table,timeline,treemap}\n",
      "               ...\n",
      "\n",
      "Generate an inline chart using Google Charts using the data in a Table, Query,\n",
      "dataframe, or list. Numerous types of charts are supported. Options for the\n",
      "charts can be specified in the cell body using YAML or JSON.\n",
      "\n",
      "positional arguments:\n",
      "  {annotation,area,bars,bubbles,calendar,candlestick,columns,combo,gauge,geo,histogram,line,map,org,paged_table,pie,sankey,scatter,stepped_area,table,timeline,treemap}\n",
      "                        commands\n",
      "    annotation          Generate a annotation chart.\n",
      "    area                Generate a area chart.\n",
      "    bars                Generate a bars chart.\n",
      "    bubbles             Generate a bubbles chart.\n",
      "    calendar            Generate a calendar chart.\n",
      "    candlestick         Generate a candlestick chart.\n",
      "    columns             Generate a columns chart.\n",
      "    combo               Generate a combo chart.\n",
      "    gauge               Generate a gauge chart.\n",
      "    geo                 Generate a geo chart.\n",
      "    histogram           Generate a histogram chart.\n",
      "    line                Generate a line chart.\n",
      "    map                 Generate a map chart.\n",
      "    org                 Generate a org chart.\n",
      "    paged_table         Generate a paged_table chart.\n",
      "    pie                 Generate a pie chart.\n",
      "    sankey              Generate a sankey chart.\n",
      "    scatter             Generate a scatter chart.\n",
      "    stepped_area        Generate a stepped_area chart.\n",
      "    table               Generate a table chart.\n",
      "    timeline            Generate a timeline chart.\n",
      "    treemap             Generate a treemap chart.\n",
      "\n",
      "optional arguments:\n",
      "  -h, --help            show this help message and exit\n"
     ]
    }
   ],
   "source": [
    "%%chart line --fields test.user, test.remoteip --data test.test"
   ]
  },
  {
   "cell_type": "code",
   "execution_count": null,
   "metadata": {
    "collapsed": true
   },
   "outputs": [],
   "source": []
  }
 ],
 "metadata": {
  "kernelspec": {
   "display_name": "Python 2",
   "language": "python",
   "name": "python2"
  },
  "language_info": {
   "codemirror_mode": {
    "name": "ipython",
    "version": 2
   },
   "file_extension": ".py",
   "mimetype": "text/x-python",
   "name": "python",
   "nbconvert_exporter": "python",
   "pygments_lexer": "ipython2",
   "version": "2.7.9"
  }
 },
 "nbformat": 4,
 "nbformat_minor": 0
}
