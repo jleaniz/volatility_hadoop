{
 "cells": [
  {
   "cell_type": "markdown",
   "metadata": {},
   "source": [
    "Testing Google Datalab + BigQuery"
   ]
  },
  {
   "cell_type": "code",
   "execution_count": 22,
   "metadata": {
    "collapsed": false
   },
   "outputs": [],
   "source": [
    "%%sql --module testdata\n",
    "SELECT user, remoteip, count(*) as cnt FROM test.test GROUP BY user, remoteip ORDER BY cnt DESC LIMIT 10"
   ]
  },
  {
   "cell_type": "code",
   "execution_count": 41,
   "metadata": {
    "collapsed": false
   },
   "outputs": [
    {
     "data": {
      "text/html": [
       "\n",
       "    <div class=\"bqgc\" id=\"25_144951323272\">\n",
       "    </div>\n",
       "    <script>\n",
       "      require(['extensions/charting', 'element!25_144951323272', 'style!/static/extensions/charting.css'],\n",
       "        function(charts, dom) {\n",
       "          charts.render(dom, {chartStyle:'pie', dataName:'3', fields:'user,cnt'}, {}, {\"rows\": [{\"c\": [{\"v\": \"trevor.hammond@ubisoft.com\"}, {\"v\": 6676}]}, {\"c\": [{\"v\": \"lenin.gali@ubisoft.com\"}, {\"v\": 4140}]}, {\"c\": [{\"v\": \"laurent.detoc@ubisoft.com\"}, {\"v\": 3243}]}, {\"c\": [{\"v\": \"francois.de-billy@ubisoft.com\"}, {\"v\": 2634}]}, {\"c\": [{\"v\": \"jean.de-rivieres@ubisoft.com\"}, {\"v\": 2008}]}, {\"c\": [{\"v\": \"francois.de-billy@ubisoft.com\"}, {\"v\": 1877}]}, {\"c\": [{\"v\": \"michelle.wu@ubisoft.com\"}, {\"v\": 1849}]}, {\"c\": [{\"v\": \"ambre.lizurey@ubisoft.com\"}, {\"v\": 1495}]}, {\"c\": [{\"v\": \"corey.facteau@ubisoft.com\"}, {\"v\": 1475}]}, {\"c\": [{\"v\": \"francois.de-billy@ubisoft.com\"}, {\"v\": 1437}]}], \"cols\": [{\"type\": \"string\", \"id\": \"user\", \"label\": \"user\"}, {\"type\": \"number\", \"id\": \"cnt\", \"label\": \"cnt\"}]});\n",
       "        }\n",
       "      );\n",
       "    </script>\n",
       "  "
      ],
      "text/plain": [
       "<IPython.core.display.HTML object>"
      ]
     },
     "execution_count": 41,
     "metadata": {},
     "output_type": "execute_result"
    }
   ],
   "source": [
    "%%chart pie -f user,cnt -d testdata"
   ]
  },
  {
   "cell_type": "code",
   "execution_count": 40,
   "metadata": {
    "collapsed": true
   },
   "outputs": [],
   "source": [
    "import pandas as pd\n",
    "import numpy as np"
   ]
  },
  {
   "cell_type": "code",
   "execution_count": 46,
   "metadata": {
    "collapsed": false
   },
   "outputs": [
    {
     "name": "stdout",
     "output_type": "stream",
     "text": [
      "geoip-bin - IP lookup command line tools that use the GeoIP library\n",
      "geoip-dbg - debugging symbols for the GeoIP packages\n",
      "libgeoip-dev - Development files for the GeoIP library\n",
      "libgeoip1 - non-DNS IP-to-country resolver library\n",
      "geoip-database - IP lookup command line tools that use the GeoIP library (country database)\n",
      "geoip-database-extra - IP lookup command line tools that use the GeoIP library (ASN/city database)\n",
      "golang-libgeoip-dev - Go implementation for lookups against GeoIP files\n",
      "kamailio-geoip-modules - contains the geoip module\n",
      "libapache2-mod-geoip - GeoIP support for apache2\n",
      "libgeo-ip-perl - Perl interface to GeoIP library\n",
      "libpam-geoip - PAM module checking access of source IPs with a GeoIP database\n",
      "php5-geoip - GeoIP module for php5\n",
      "proftpd-mod-geoip - Versatile, virtual-hosting FTP daemon - GeoIP module\n",
      "python-geoip - Python bindings for the GeoIP IP-to-country resolver library\n",
      "python3-geoip - Python3 bindings for the GeoIP IP-to-country resolver library\n",
      "syslog-ng-mod-geoip - Enhanced system logging daemon (GeoIP plugin)\n",
      "tclgeoip - Tcl extension implementing GeoIP lookup functions\n",
      "tor-geoipdb - GeoIP database for Tor\n",
      "uwsgi-plugin-geoip - GeoIP plugin for uWSGI\n"
     ]
    }
   ],
   "source": [
    "%%bash\n",
    "apt-get install libgeoip-dev geoip-database && pip install geoip"
   ]
  },
  {
   "cell_type": "code",
   "execution_count": null,
   "metadata": {
    "collapsed": true
   },
   "outputs": [],
   "source": []
  }
 ],
 "metadata": {
  "kernelspec": {
   "display_name": "Python 2",
   "language": "python",
   "name": "python2"
  },
  "language_info": {
   "codemirror_mode": {
    "name": "ipython",
    "version": 2
   },
   "file_extension": ".py",
   "mimetype": "text/x-python",
   "name": "python",
   "nbconvert_exporter": "python",
   "pygments_lexer": "ipython2",
   "version": "2.7.9"
  }
 },
 "nbformat": 4,
 "nbformat_minor": 0
}
