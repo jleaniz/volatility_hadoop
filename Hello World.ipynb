{
 "cells": [
  {
   "cell_type": "markdown",
   "metadata": {},
   "source": [
    "Testing Google Datalab + BigQuery"
   ]
  },
  {
   "cell_type": "code",
   "execution_count": 22,
   "metadata": {
    "collapsed": false
   },
   "outputs": [],
   "source": [
    "%%sql --module testdata\n",
    "SELECT user, remoteip, count(*) as cnt FROM test.test GROUP BY user, remoteip ORDER BY cnt DESC LIMIT 10"
   ]
  },
  {
   "cell_type": "code",
   "execution_count": 23,
   "metadata": {
    "collapsed": false
   },
   "outputs": [
    {
     "data": {
      "text/html": [
       "\n",
       "    <div class=\"bqgc\" id=\"12_144951296365\">\n",
       "    </div>\n",
       "    <script>\n",
       "      require(['extensions/charting', 'element!12_144951296365', 'style!/static/extensions/charting.css'],\n",
       "        function(charts, dom) {\n",
       "          charts.render(dom, {chartStyle:'candlestick', dataName:'3', fields:'remoteip,cnt'}, {}, {\"rows\": [{\"c\": [{\"v\": \"74.57.89.82\"}, {\"v\": 6676}]}, {\"c\": [{\"v\": \"23.120.23.86\"}, {\"v\": 4140}]}, {\"c\": [{\"v\": \"186.188.136.121\"}, {\"v\": 3243}]}, {\"c\": [{\"v\": \"70.83.41.63\"}, {\"v\": 2634}]}, {\"c\": [{\"v\": \"104.33.199.88\"}, {\"v\": 2008}]}, {\"c\": [{\"v\": \"192.222.189.198\"}, {\"v\": 1877}]}, {\"c\": [{\"v\": \"96.127.218.3\"}, {\"v\": 1849}]}, {\"c\": [{\"v\": \"192.222.189.198\"}, {\"v\": 1495}]}, {\"c\": [{\"v\": \"73.235.88.222\"}, {\"v\": 1475}]}, {\"c\": [{\"v\": \"135.19.114.34\"}, {\"v\": 1437}]}], \"cols\": [{\"type\": \"string\", \"id\": \"remoteip\", \"label\": \"remoteip\"}, {\"type\": \"number\", \"id\": \"cnt\", \"label\": \"cnt\"}]});\n",
       "        }\n",
       "      );\n",
       "    </script>\n",
       "  "
      ],
      "text/plain": [
       "<IPython.core.display.HTML object>"
      ]
     },
     "execution_count": 23,
     "metadata": {},
     "output_type": "execute_result"
    }
   ],
   "source": [
    "%%chart candlestick --fields remoteip,cnt --data testdata"
   ]
  },
  {
   "cell_type": "code",
   "execution_count": null,
   "metadata": {
    "collapsed": true
   },
   "outputs": [],
   "source": []
  }
 ],
 "metadata": {
  "kernelspec": {
   "display_name": "Python 2",
   "language": "python",
   "name": "python2"
  },
  "language_info": {
   "codemirror_mode": {
    "name": "ipython",
    "version": 2
   },
   "file_extension": ".py",
   "mimetype": "text/x-python",
   "name": "python",
   "nbconvert_exporter": "python",
   "pygments_lexer": "ipython2",
   "version": "2.7.9"
  }
 },
 "nbformat": 4,
 "nbformat_minor": 0
}
