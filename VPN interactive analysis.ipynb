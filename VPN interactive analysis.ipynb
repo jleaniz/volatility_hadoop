{
 "cells": [
  {
   "cell_type": "markdown",
   "metadata": {},
   "source": [
    "Testing Google Datalab + BigQuery"
   ]
  },
  {
   "cell_type": "code",
   "execution_count": 55,
   "metadata": {
    "collapsed": false
   },
   "outputs": [
    {
     "name": "stdout",
     "output_type": "stream",
     "text": [
      "Reading package lists...\n",
      "Building dependency tree...\n",
      "Reading state information...\n",
      "apt-utils is already the newest version.\n",
      "0 upgraded, 0 newly installed, 0 to remove and 11 not upgraded.\n",
      "Reading package lists...\n",
      "Building dependency tree...\n",
      "Reading state information...\n",
      "libgeoip-dev is already the newest version.\n",
      "geoip-database is already the newest version.\n",
      "0 upgraded, 0 newly installed, 0 to remove and 11 not upgraded.\n",
      "Requirement already satisfied (use --upgrade to upgrade): geoip in /usr/local/lib/python2.7/dist-packages\n",
      "Cleaning up...\n"
     ]
    }
   ],
   "source": [
    "%%bash\n",
    "apt-get install -y apt-utils"
   ]
  },
  {
   "cell_type": "markdown",
   "metadata": {},
   "source": [
    "%%bash\n",
    "apt-get install -y libgeoip-dev geoip-database && pip install geoip"
   ]
  },
  {
   "cell_type": "markdown",
   "metadata": {},
   "source": [
    "%%bash\n",
    "find / -name GeoIP.dat"
   ]
  },
  {
   "cell_type": "code",
   "execution_count": 58,
   "metadata": {
    "collapsed": false
   },
   "outputs": [],
   "source": [
    "%%sql --module testdata\n",
    "SELECT user, remoteip, remoteipcc, c, count(*) as cnt FROM geo_vpn.data GROUP BY user, remoteip, remoteipcc, c ORDER BY cnt DESC LIMIT 10"
   ]
  },
  {
   "cell_type": "code",
   "execution_count": 61,
   "metadata": {
    "collapsed": false
   },
   "outputs": [
    {
     "data": {
      "text/html": [
       "\n",
       "    <div class=\"bqgc\" id=\"29_144951440252\">\n",
       "    </div>\n",
       "    <script>\n",
       "      require(['extensions/charting', 'element!29_144951440252', 'style!/static/extensions/charting.css'],\n",
       "        function(charts, dom) {\n",
       "          charts.render(dom, {chartStyle:'geo', dataName:'3', fields:'remoteipcc,cnt'}, {}, {\"rows\": [{\"c\": [{\"v\": \"PA\"}, {\"v\": 3243}]}, {\"c\": [{\"v\": \"CA\"}, {\"v\": 2634}]}, {\"c\": [{\"v\": \"CA\"}, {\"v\": 1877}]}, {\"c\": [{\"v\": \"CA\"}, {\"v\": 1849}]}, {\"c\": [{\"v\": \"CA\"}, {\"v\": 1495}]}, {\"c\": [{\"v\": \"CA\"}, {\"v\": 1437}]}, {\"c\": [{\"v\": \"CA\"}, {\"v\": 1432}]}, {\"c\": [{\"v\": \"CA\"}, {\"v\": 1396}]}, {\"c\": [{\"v\": \"CA\"}, {\"v\": 1209}]}, {\"c\": [{\"v\": \"CA\"}, {\"v\": 1146}]}], \"cols\": [{\"type\": \"string\", \"id\": \"remoteipcc\", \"label\": \"remoteipcc\"}, {\"type\": \"number\", \"id\": \"cnt\", \"label\": \"cnt\"}]});\n",
       "        }\n",
       "      );\n",
       "    </script>\n",
       "  "
      ],
      "text/plain": [
       "<IPython.core.display.HTML object>"
      ]
     },
     "execution_count": 61,
     "metadata": {},
     "output_type": "execute_result"
    }
   ],
   "source": [
    "%%chart geo -f remoteipcc,cnt -d testdata"
   ]
  },
  {
   "cell_type": "code",
   "execution_count": 63,
   "metadata": {
    "collapsed": true
   },
   "outputs": [],
   "source": [
    "import pandas as pd\n",
    "import numpy as np\n",
    "import sklearn as sk"
   ]
  },
  {
   "cell_type": "code",
   "execution_count": 62,
   "metadata": {
    "collapsed": false
   },
   "outputs": [
    {
     "data": {
      "text/plain": [
       "<module 'pandas' from '/usr/local/lib/python2.7/dist-packages/pandas/__init__.pyc'>"
      ]
     },
     "execution_count": 62,
     "metadata": {},
     "output_type": "execute_result"
    }
   ],
   "source": [
    "pd"
   ]
  },
  {
   "cell_type": "code",
   "execution_count": 64,
   "metadata": {
    "collapsed": false
   },
   "outputs": [
    {
     "data": {
      "text/plain": [
       "<module 'sklearn' from '/usr/local/lib/python2.7/dist-packages/sklearn/__init__.pyc'>"
      ]
     },
     "execution_count": 64,
     "metadata": {},
     "output_type": "execute_result"
    }
   ],
   "source": [
    "sk"
   ]
  },
  {
   "cell_type": "code",
   "execution_count": null,
   "metadata": {
    "collapsed": true
   },
   "outputs": [],
   "source": []
  }
 ],
 "metadata": {
  "kernelspec": {
   "display_name": "Python 2",
   "language": "python",
   "name": "python2"
  },
  "language_info": {
   "codemirror_mode": {
    "name": "ipython",
    "version": 2
   },
   "file_extension": ".py",
   "mimetype": "text/x-python",
   "name": "python",
   "nbconvert_exporter": "python",
   "pygments_lexer": "ipython2",
   "version": "2.7.9"
  }
 },
 "nbformat": 4,
 "nbformat_minor": 0
}
