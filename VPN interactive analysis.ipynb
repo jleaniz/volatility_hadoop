{
 "cells": [
  {
   "cell_type": "markdown",
   "metadata": {},
   "source": [
    "Testing Google Datalab + BigQuery"
   ]
  },
  {
   "cell_type": "code",
   "execution_count": 55,
   "metadata": {
    "collapsed": false
   },
   "outputs": [
    {
     "name": "stdout",
     "output_type": "stream",
     "text": [
      "Reading package lists...\n",
      "Building dependency tree...\n",
      "Reading state information...\n",
      "apt-utils is already the newest version.\n",
      "0 upgraded, 0 newly installed, 0 to remove and 11 not upgraded.\n",
      "Reading package lists...\n",
      "Building dependency tree...\n",
      "Reading state information...\n",
      "libgeoip-dev is already the newest version.\n",
      "geoip-database is already the newest version.\n",
      "0 upgraded, 0 newly installed, 0 to remove and 11 not upgraded.\n",
      "Requirement already satisfied (use --upgrade to upgrade): geoip in /usr/local/lib/python2.7/dist-packages\n",
      "Cleaning up...\n"
     ]
    }
   ],
   "source": [
    "%%bash\n",
    "apt-get install -y apt-utils"
   ]
  },
  {
   "cell_type": "markdown",
   "metadata": {},
   "source": [
    "%%bash\n",
    "apt-get install -y libgeoip-dev geoip-database && pip install geoip"
   ]
  },
  {
   "cell_type": "markdown",
   "metadata": {},
   "source": [
    "%%bash\n",
    "find / -name GeoIP.dat"
   ]
  },
  {
   "cell_type": "code",
   "execution_count": 57,
   "metadata": {
    "collapsed": false
   },
   "outputs": [
    {
     "data": {
      "text/html": [
       "\n",
       "    <div class=\"bqtv\" id=\"26_144951421523\"><table><tr><th>user</th><th>remoteip</th><th>remoteipcc</th><th>c</th><th>cnt</th></tr><tr><td>laurent.detoc@ubisoft.com</td><td>186.188.136.121</td><td>PA</td><td>US</td><td>3243</td></tr><tr><td>francois.de-billy@ubisoft.com</td><td>70.83.41.63</td><td>CA</td><td>CA</td><td>2634</td></tr><tr><td>francois.de-billy@ubisoft.com</td><td>192.222.189.198</td><td>CA</td><td>CA</td><td>1877</td></tr><tr><td>michelle.wu@ubisoft.com</td><td>96.127.218.3</td><td>CA</td><td>CA</td><td>1849</td></tr><tr><td>ambre.lizurey@ubisoft.com</td><td>192.222.189.198</td><td>CA</td><td>CA</td><td>1495</td></tr><tr><td>francois.de-billy@ubisoft.com</td><td>135.19.114.34</td><td>CA</td><td>CA</td><td>1437</td></tr><tr><td>stephane.caissie@ubisoft.com</td><td>173.176.104.48</td><td>CA</td><td>CA</td><td>1432</td></tr><tr><td>christine.dufour2@ubisoft.com</td><td>96.23.45.41</td><td>CA</td><td>CA</td><td>1396</td></tr><tr><td>mathieu.belanger@ubisoft.com</td><td>23.233.197.98</td><td>CA</td><td>CA</td><td>1209</td></tr><tr><td>stephane.caissie@ubisoft.com</td><td>70.83.36.157</td><td>CA</td><td>CA</td><td>1146</td></tr></table></div>\n",
       "    <br />(rows: 10, time: 0.9s,     9MB processed, job: job_r3BkPIDK4JsOFCRX0j5EjTmuGF0)<br />\n",
       "    <script>\n",
       "      require(['extensions/charting', 'element!26_144951421523', 'style!/static/extensions/charting.css'],\n",
       "        function(charts, dom) {\n",
       "          charts.render(dom,\n",
       "            {\n",
       "              chartStyle:\"table\",\n",
       "              dataName:\"4\",\n",
       "              fields:\"user,remoteip,remoteipcc,c,cnt\",\n",
       "              totalRows:10,\n",
       "              rowsPerPage:25,\n",
       "            }, {}, {\"rows\": [{\"c\": [{\"v\": \"laurent.detoc@ubisoft.com\"}, {\"v\": \"186.188.136.121\"}, {\"v\": \"PA\"}, {\"v\": \"US\"}, {\"v\": 3243}]}, {\"c\": [{\"v\": \"francois.de-billy@ubisoft.com\"}, {\"v\": \"70.83.41.63\"}, {\"v\": \"CA\"}, {\"v\": \"CA\"}, {\"v\": 2634}]}, {\"c\": [{\"v\": \"francois.de-billy@ubisoft.com\"}, {\"v\": \"192.222.189.198\"}, {\"v\": \"CA\"}, {\"v\": \"CA\"}, {\"v\": 1877}]}, {\"c\": [{\"v\": \"michelle.wu@ubisoft.com\"}, {\"v\": \"96.127.218.3\"}, {\"v\": \"CA\"}, {\"v\": \"CA\"}, {\"v\": 1849}]}, {\"c\": [{\"v\": \"ambre.lizurey@ubisoft.com\"}, {\"v\": \"192.222.189.198\"}, {\"v\": \"CA\"}, {\"v\": \"CA\"}, {\"v\": 1495}]}, {\"c\": [{\"v\": \"francois.de-billy@ubisoft.com\"}, {\"v\": \"135.19.114.34\"}, {\"v\": \"CA\"}, {\"v\": \"CA\"}, {\"v\": 1437}]}, {\"c\": [{\"v\": \"stephane.caissie@ubisoft.com\"}, {\"v\": \"173.176.104.48\"}, {\"v\": \"CA\"}, {\"v\": \"CA\"}, {\"v\": 1432}]}, {\"c\": [{\"v\": \"christine.dufour2@ubisoft.com\"}, {\"v\": \"96.23.45.41\"}, {\"v\": \"CA\"}, {\"v\": \"CA\"}, {\"v\": 1396}]}, {\"c\": [{\"v\": \"mathieu.belanger@ubisoft.com\"}, {\"v\": \"23.233.197.98\"}, {\"v\": \"CA\"}, {\"v\": \"CA\"}, {\"v\": 1209}]}, {\"c\": [{\"v\": \"stephane.caissie@ubisoft.com\"}, {\"v\": \"70.83.36.157\"}, {\"v\": \"CA\"}, {\"v\": \"CA\"}, {\"v\": 1146}]}], \"cols\": [{\"type\": \"string\", \"id\": \"user\", \"label\": \"user\"}, {\"type\": \"string\", \"id\": \"remoteip\", \"label\": \"remoteip\"}, {\"type\": \"string\", \"id\": \"remoteipcc\", \"label\": \"remoteipcc\"}, {\"type\": \"string\", \"id\": \"c\", \"label\": \"c\"}, {\"type\": \"number\", \"id\": \"cnt\", \"label\": \"cnt\"}]});\n",
       "        }\n",
       "      );\n",
       "    </script>\n",
       "  "
      ],
      "text/plain": [
       "QueryResultsTable job_r3BkPIDK4JsOFCRX0j5EjTmuGF0"
      ]
     },
     "execution_count": 57,
     "metadata": {},
     "output_type": "execute_result"
    }
   ],
   "source": [
    "%%sql --\n",
    "SELECT user, remoteip, remoteipcc, c, count(*) as cnt FROM geo_vpn.data GROUP BY user, remoteip, remoteipcc, c ORDER BY cnt DESC LIMIT 10"
   ]
  },
  {
   "cell_type": "code",
   "execution_count": 41,
   "metadata": {
    "collapsed": false
   },
   "outputs": [
    {
     "data": {
      "text/html": [
       "\n",
       "    <div class=\"bqgc\" id=\"25_144951323272\">\n",
       "    </div>\n",
       "    <script>\n",
       "      require(['extensions/charting', 'element!25_144951323272', 'style!/static/extensions/charting.css'],\n",
       "        function(charts, dom) {\n",
       "          charts.render(dom, {chartStyle:'pie', dataName:'3', fields:'user,cnt'}, {}, {\"rows\": [{\"c\": [{\"v\": \"trevor.hammond@ubisoft.com\"}, {\"v\": 6676}]}, {\"c\": [{\"v\": \"lenin.gali@ubisoft.com\"}, {\"v\": 4140}]}, {\"c\": [{\"v\": \"laurent.detoc@ubisoft.com\"}, {\"v\": 3243}]}, {\"c\": [{\"v\": \"francois.de-billy@ubisoft.com\"}, {\"v\": 2634}]}, {\"c\": [{\"v\": \"jean.de-rivieres@ubisoft.com\"}, {\"v\": 2008}]}, {\"c\": [{\"v\": \"francois.de-billy@ubisoft.com\"}, {\"v\": 1877}]}, {\"c\": [{\"v\": \"michelle.wu@ubisoft.com\"}, {\"v\": 1849}]}, {\"c\": [{\"v\": \"ambre.lizurey@ubisoft.com\"}, {\"v\": 1495}]}, {\"c\": [{\"v\": \"corey.facteau@ubisoft.com\"}, {\"v\": 1475}]}, {\"c\": [{\"v\": \"francois.de-billy@ubisoft.com\"}, {\"v\": 1437}]}], \"cols\": [{\"type\": \"string\", \"id\": \"user\", \"label\": \"user\"}, {\"type\": \"number\", \"id\": \"cnt\", \"label\": \"cnt\"}]});\n",
       "        }\n",
       "      );\n",
       "    </script>\n",
       "  "
      ],
      "text/plain": [
       "<IPython.core.display.HTML object>"
      ]
     },
     "execution_count": 41,
     "metadata": {},
     "output_type": "execute_result"
    }
   ],
   "source": [
    "%%chart pie -f user,cnt -d testdata"
   ]
  },
  {
   "cell_type": "code",
   "execution_count": 40,
   "metadata": {
    "collapsed": true
   },
   "outputs": [],
   "source": [
    "import pandas as pd\n",
    "import numpy as np"
   ]
  },
  {
   "cell_type": "code",
   "execution_count": null,
   "metadata": {
    "collapsed": true
   },
   "outputs": [],
   "source": []
  }
 ],
 "metadata": {
  "kernelspec": {
   "display_name": "Python 2",
   "language": "python",
   "name": "python2"
  },
  "language_info": {
   "codemirror_mode": {
    "name": "ipython",
    "version": 2
   },
   "file_extension": ".py",
   "mimetype": "text/x-python",
   "name": "python",
   "nbconvert_exporter": "python",
   "pygments_lexer": "ipython2",
   "version": "2.7.9"
  }
 },
 "nbformat": 4,
 "nbformat_minor": 0
}
