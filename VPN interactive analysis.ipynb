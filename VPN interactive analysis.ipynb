{
 "cells": [
  {
   "cell_type": "markdown",
   "metadata": {},
   "source": [
    "Testing Google Datalab + BigQuery"
   ]
  },
  {
   "cell_type": "code",
   "execution_count": 55,
   "metadata": {
    "collapsed": false
   },
   "outputs": [
    {
     "name": "stdout",
     "output_type": "stream",
     "text": [
      "Reading package lists...\n",
      "Building dependency tree...\n",
      "Reading state information...\n",
      "apt-utils is already the newest version.\n",
      "0 upgraded, 0 newly installed, 0 to remove and 11 not upgraded.\n",
      "Reading package lists...\n",
      "Building dependency tree...\n",
      "Reading state information...\n",
      "libgeoip-dev is already the newest version.\n",
      "geoip-database is already the newest version.\n",
      "0 upgraded, 0 newly installed, 0 to remove and 11 not upgraded.\n",
      "Requirement already satisfied (use --upgrade to upgrade): geoip in /usr/local/lib/python2.7/dist-packages\n",
      "Cleaning up...\n"
     ]
    }
   ],
   "source": [
    "%%bash\n",
    "apt-get install -y apt-utils"
   ]
  },
  {
   "cell_type": "markdown",
   "metadata": {},
   "source": [
    "%%bash\n",
    "apt-get install -y libgeoip-dev geoip-database && pip install geoip"
   ]
  },
  {
   "cell_type": "markdown",
   "metadata": {},
   "source": [
    "%%bash\n",
    "find / -name GeoIP.dat"
   ]
  },
  {
   "cell_type": "code",
   "execution_count": 22,
   "metadata": {
    "collapsed": false
   },
   "outputs": [],
   "source": [
    "%%sql --module testdata\n",
    "SELECT user, remoteip, count(*) as cnt FROM test.test GROUP BY user, remoteip ORDER BY cnt DESC LIMIT 10"
   ]
  },
  {
   "cell_type": "code",
   "execution_count": 41,
   "metadata": {
    "collapsed": false
   },
   "outputs": [
    {
     "data": {
      "text/html": [
       "\n",
       "    <div class=\"bqgc\" id=\"25_144951323272\">\n",
       "    </div>\n",
       "    <script>\n",
       "      require(['extensions/charting', 'element!25_144951323272', 'style!/static/extensions/charting.css'],\n",
       "        function(charts, dom) {\n",
       "          charts.render(dom, {chartStyle:'pie', dataName:'3', fields:'user,cnt'}, {}, {\"rows\": [{\"c\": [{\"v\": \"trevor.hammond@ubisoft.com\"}, {\"v\": 6676}]}, {\"c\": [{\"v\": \"lenin.gali@ubisoft.com\"}, {\"v\": 4140}]}, {\"c\": [{\"v\": \"laurent.detoc@ubisoft.com\"}, {\"v\": 3243}]}, {\"c\": [{\"v\": \"francois.de-billy@ubisoft.com\"}, {\"v\": 2634}]}, {\"c\": [{\"v\": \"jean.de-rivieres@ubisoft.com\"}, {\"v\": 2008}]}, {\"c\": [{\"v\": \"francois.de-billy@ubisoft.com\"}, {\"v\": 1877}]}, {\"c\": [{\"v\": \"michelle.wu@ubisoft.com\"}, {\"v\": 1849}]}, {\"c\": [{\"v\": \"ambre.lizurey@ubisoft.com\"}, {\"v\": 1495}]}, {\"c\": [{\"v\": \"corey.facteau@ubisoft.com\"}, {\"v\": 1475}]}, {\"c\": [{\"v\": \"francois.de-billy@ubisoft.com\"}, {\"v\": 1437}]}], \"cols\": [{\"type\": \"string\", \"id\": \"user\", \"label\": \"user\"}, {\"type\": \"number\", \"id\": \"cnt\", \"label\": \"cnt\"}]});\n",
       "        }\n",
       "      );\n",
       "    </script>\n",
       "  "
      ],
      "text/plain": [
       "<IPython.core.display.HTML object>"
      ]
     },
     "execution_count": 41,
     "metadata": {},
     "output_type": "execute_result"
    }
   ],
   "source": [
    "%%chart pie -f user,cnt -d testdata"
   ]
  },
  {
   "cell_type": "code",
   "execution_count": 40,
   "metadata": {
    "collapsed": true
   },
   "outputs": [],
   "source": [
    "import pandas as pd\n",
    "import numpy as np"
   ]
  },
  {
   "cell_type": "code",
   "execution_count": 48,
   "metadata": {
    "collapsed": false
   },
   "outputs": [
    {
     "ename": "NameError",
     "evalue": "name 'y' is not defined",
     "output_type": "error",
     "traceback": [
      "\u001b[1;31m---------------------------------------------------------------------------\u001b[0m",
      "\u001b[1;31mNameError\u001b[0m                                 Traceback (most recent call last)",
      "\u001b[1;32m<ipython-input-48-009520053b00>\u001b[0m in \u001b[0;36m<module>\u001b[1;34m()\u001b[0m\n\u001b[1;32m----> 1\u001b[1;33m \u001b[0my\u001b[0m\u001b[1;33m\u001b[0m\u001b[0m\n\u001b[0m",
      "\u001b[1;31mNameError\u001b[0m: name 'y' is not defined"
     ]
    }
   ],
   "source": []
  },
  {
   "cell_type": "code",
   "execution_count": null,
   "metadata": {
    "collapsed": true
   },
   "outputs": [],
   "source": []
  }
 ],
 "metadata": {
  "kernelspec": {
   "display_name": "Python 2",
   "language": "python",
   "name": "python2"
  },
  "language_info": {
   "codemirror_mode": {
    "name": "ipython",
    "version": 2
   },
   "file_extension": ".py",
   "mimetype": "text/x-python",
   "name": "python",
   "nbconvert_exporter": "python",
   "pygments_lexer": "ipython2",
   "version": "2.7.9"
  }
 },
 "nbformat": 4,
 "nbformat_minor": 0
}
